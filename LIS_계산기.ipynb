{
  "nbformat": 4,
  "nbformat_minor": 0,
  "metadata": {
    "colab": {
      "name": "LIS_계산기.ipynb",
      "provenance": [],
      "collapsed_sections": [],
      "include_colab_link": true
    },
    "kernelspec": {
      "name": "python3",
      "display_name": "Python 3"
    }
  },
  "cells": [
    {
      "cell_type": "markdown",
      "metadata": {
        "id": "view-in-github",
        "colab_type": "text"
      },
      "source": [
        "<a href=\"https://colab.research.google.com/github/moey920/Baejoon_PyPy3/blob/master/LIS_%EA%B3%84%EC%82%B0%EA%B8%B0.ipynb\" target=\"_parent\"><img src=\"https://colab.research.google.com/assets/colab-badge.svg\" alt=\"Open In Colab\"/></a>"
      ]
    },
    {
      "cell_type": "code",
      "metadata": {
        "id": "ACAL9Nc3LLKJ",
        "colab": {
          "base_uri": "https://localhost:8080/"
        },
        "outputId": "b5ce2723-92f0-4c09-ef09-074220540c6b"
      },
      "source": [
        "class Solution(object):\n",
        "   def lengthOfLIS(self, nums):\n",
        "      tails =[0 for i in range(len(nums))]\n",
        "      size = 0\n",
        "      for x in nums:\n",
        "         i=0\n",
        "         j=size\n",
        "         while i!=j:\n",
        "            mid = i + (j-i)//2\n",
        "            if tails[mid]< x:\n",
        "               i= mid+1\n",
        "            else:\n",
        "               j = mid\n",
        "         tails[i] = x\n",
        "         size = max(i+1,size)\n",
        "         #print(tails)\n",
        "      return size\n",
        "ob1 = Solution()\n",
        "print(ob1.lengthOfLIS([9,8,2,4,1,6,3,5,2]))"
      ],
      "execution_count": null,
      "outputs": [
        {
          "output_type": "stream",
          "text": [
            "3\n"
          ],
          "name": "stdout"
        }
      ]
    }
  ]
}