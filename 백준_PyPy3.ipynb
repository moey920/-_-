{
  "nbformat": 4,
  "nbformat_minor": 0,
  "metadata": {
    "colab": {
      "name": "백준_PyPy3.ipynb",
      "provenance": [],
      "collapsed_sections": [],
      "toc_visible": true,
      "authorship_tag": "ABX9TyNJhCmopS5qrXok2GHD81yl",
      "include_colab_link": true
    },
    "kernelspec": {
      "name": "python3",
      "display_name": "Python 3"
    }
  },
  "cells": [
    {
      "cell_type": "markdown",
      "metadata": {
        "id": "view-in-github",
        "colab_type": "text"
      },
      "source": [
        "<a href=\"https://colab.research.google.com/github/moey920/Baejoon_PyPy3/blob/master/%EB%B0%B1%EC%A4%80_PyPy3.ipynb\" target=\"_parent\"><img src=\"https://colab.research.google.com/assets/colab-badge.svg\" alt=\"Open In Colab\"/></a>"
      ]
    },
    {
      "cell_type": "markdown",
      "metadata": {
        "id": "8Y6Kg46l1P-x",
        "colab_type": "text"
      },
      "source": [
        "# 백준 단계별 문제풀기"
      ]
    },
    {
      "cell_type": "markdown",
      "metadata": {
        "id": "LvLvaXlA1sjA",
        "colab_type": "text"
      },
      "source": [
        "## 입출력과 사칙연산"
      ]
    },
    {
      "cell_type": "markdown",
      "metadata": {
        "id": "cnPxI5PW1HMh",
        "colab_type": "text"
      },
      "source": [
        "### 1000번\n",
        "문제 : 두 정수 A와 B를 입력받은 다음, A+B를 출력하는 프로그램을 작성하시오.  \n",
        "입력 : 첫째 줄에 A와 B가 주어진다. (0 < A, B < 10)  \n",
        "출력 : 첫째 줄에 A+B를 출력한다.  \n",
        "\n",
        "https://www.acmicpc.net/problem/1000\n",
        "\n"
      ]
    },
    {
      "cell_type": "code",
      "metadata": {
        "id": "rh10MPBPyad0",
        "colab_type": "code",
        "colab": {
          "base_uri": "https://localhost:8080/",
          "height": 52
        },
        "outputId": "1caa3c13-74f6-4a78-b653-692a0612c8ad"
      },
      "source": [
        "#첫번째 풀이 map 이용(조건을 달아서. 근데 조건도 틀렸음. 나중에 A,B에 동시에 값을 조절하는 방법 알아보기)\n",
        "A,B = map(int, input().split())\n",
        "if (0<A,B<10) :\n",
        "  print(A+B)"
      ],
      "execution_count": null,
      "outputs": [
        {
          "output_type": "stream",
          "text": [
            "11 11\n",
            "22\n"
          ],
          "name": "stdout"
        }
      ]
    },
    {
      "cell_type": "code",
      "metadata": {
        "id": "fcjd4Adk6jfs",
        "colab_type": "code",
        "colab": {
          "base_uri": "https://localhost:8080/",
          "height": 52
        },
        "outputId": "7aab442c-c793-4b99-b5a2-9e8187fa608c"
      },
      "source": [
        "# 두번째 풀이\n",
        "A,B = input().split()\n",
        "print(int(A)+int(B))"
      ],
      "execution_count": null,
      "outputs": [
        {
          "output_type": "stream",
          "text": [
            "5 5\n",
            "10\n"
          ],
          "name": "stdout"
        }
      ]
    },
    {
      "cell_type": "markdown",
      "metadata": {
        "id": "SOn9W1me14qF",
        "colab_type": "text"
      },
      "source": [
        "### 1008번\n",
        "문제 : 두 정수 A와 B를 입력받은 다음, A/B를 출력하는 프로그램을 작성하시오.  \n",
        "입력 : 첫째 줄에 A와 B가 주어진다. (0 < A, B < 10)  \n",
        "출력 : 첫째 줄에 A/B를 출력한다. 실제 정답과 출력값의 절대오차 또는 상대오차가 10-9 이하이면 정답이다."
      ]
    },
    {
      "cell_type": "code",
      "metadata": {
        "id": "X4NALkQm2vhB",
        "colab_type": "code",
        "colab": {
          "base_uri": "https://localhost:8080/",
          "height": 52
        },
        "outputId": "ea07b7c2-95da-49ed-fd80-028f85ec2a4b"
      },
      "source": [
        "# 두번째 풀이\n",
        "A,B = input().split()\n",
        "print(int(A)/int(B))"
      ],
      "execution_count": null,
      "outputs": [
        {
          "output_type": "stream",
          "text": [
            "1 2\n",
            "0.5\n"
          ],
          "name": "stdout"
        }
      ]
    },
    {
      "cell_type": "markdown",
      "metadata": {
        "id": "qQCHTXo86-KM",
        "colab_type": "text"
      },
      "source": [
        "### 10430번\n",
        "문제 :\n",
        "(A+B)%C는 ((A%C) + (B%C))%C 와 같을까?  \n",
        "(A×B)%C는 ((A%C) × (B%C))%C 와 같을까?  \n",
        "세 수 A, B, C가 주어졌을 때, 위의 네 가지 값을 구하는 프로그램을 작성하시오.\n",
        "\n",
        "입력 : 첫째 줄에 A, B, C가 순서대로 주어진다. (2 ≤ A, B, C ≤ 10000)\n",
        "출력 : 첫째 줄에 (A+B)%C, 둘째 줄에 ((A%C) + (B%C))%C, 셋째 줄에 (A×B)%C, 넷째 줄에 ((A%C) × (B%C))%C를 출력한다."
      ]
    },
    {
      "cell_type": "code",
      "metadata": {
        "id": "TYOxSiYt6vRL",
        "colab_type": "code",
        "colab": {
          "base_uri": "https://localhost:8080/",
          "height": 105
        },
        "outputId": "b8717953-ce6a-45d5-dca7-bd5c686c6776"
      },
      "source": [
        "A,B,C = input().split()\n",
        "A = int(A)\n",
        "B = int(B)\n",
        "C = int(C)\n",
        "print((A+B)%C)\n",
        "print(((A%C) + (B%C))%C)\n",
        "print((A*B)%C)\n",
        "print(((A%C)*(B%C))%C)"
      ],
      "execution_count": null,
      "outputs": [
        {
          "output_type": "stream",
          "text": [
            "20 40 100\n",
            "60\n",
            "60\n",
            "0\n",
            "0\n"
          ],
          "name": "stdout"
        }
      ]
    },
    {
      "cell_type": "code",
      "metadata": {
        "id": "32XMZI3z8eQs",
        "colab_type": "code",
        "colab": {
          "base_uri": "https://localhost:8080/",
          "height": 105
        },
        "outputId": "d64c5449-cf13-41ca-8c5e-a7c6d650652d"
      },
      "source": [
        "A,B,C = map(int, input().split())\n",
        "if(2<=A,B,C<=10000) :\n",
        "  print((A+B)%C)\n",
        "  print((A%C + B%C)%C)\n",
        "  print((A*B)%C)\n",
        "  print((A%C * B%C)%C)"
      ],
      "execution_count": null,
      "outputs": [
        {
          "output_type": "stream",
          "text": [
            "10001 100 10001\n",
            "100\n",
            "100\n",
            "0\n",
            "0\n"
          ],
          "name": "stdout"
        }
      ]
    },
    {
      "cell_type": "markdown",
      "metadata": {
        "id": "c7M28ye8-hGF",
        "colab_type": "text"
      },
      "source": [
        "## IF문"
      ]
    },
    {
      "cell_type": "markdown",
      "metadata": {
        "id": "6okw1GSa-jqz",
        "colab_type": "text"
      },
      "source": [
        "### 시험성적(9498번)\n",
        "\n",
        "문제 :시험 점수를 입력받아 90 ~ 100점은 A, 80 ~ 89점은 B, 70 ~ 79점은 C, 60 ~ 69점은 D, 나머지 점수는 F를 출력하는 프로그램을 작성하시오.\n",
        "\n",
        "입력 : 첫째 줄에 시험 점수가 주어진다. 시험 점수는 0보다 크거나 같고, 100보다 작거나 같은 정수이다.  \n",
        "출력 : 시험 성적을 출력한다.\n"
      ]
    },
    {
      "cell_type": "code",
      "metadata": {
        "id": "PfzvIKD_-mrX",
        "colab_type": "code",
        "colab": {
          "base_uri": "https://localhost:8080/",
          "height": 52
        },
        "outputId": "a3c674d9-e766-491f-e636-ecc6d5ba0359"
      },
      "source": [
        "score = int(input())\n",
        "A = \"A\"\n",
        "B = \"B\"\n",
        "C = \"C\"\n",
        "D = \"D\"\n",
        "F = \"F\"\n",
        "if 90<=score<=100 :\n",
        "  print(A)\n",
        "elif 80<= score < 90 :\n",
        "  print(B)\n",
        "elif 70 <= score < 80 :\n",
        "  print(C)\n",
        "elif 60 <= score < 70 :\n",
        "  print(D)\n",
        "else :\n",
        "  print(F)\n"
      ],
      "execution_count": 12,
      "outputs": [
        {
          "output_type": "stream",
          "text": [
            "55\n",
            "F\n"
          ],
          "name": "stdout"
        }
      ]
    },
    {
      "cell_type": "code",
      "metadata": {
        "id": "9qm-eWB8KxG2",
        "colab_type": "code",
        "colab": {
          "base_uri": "https://localhost:8080/",
          "height": 52
        },
        "outputId": "0d6964a1-6bfd-403f-f0e1-1cf8037bf4da"
      },
      "source": [
        "# 더 나은 풀이\n",
        "A = int(input())\n",
        "if 90<=A<=100 :\n",
        "  print(\"A\")\n",
        "elif 80<= A < 90 :\n",
        "  print(\"B\")\n",
        "elif 70 <= A < 80 :\n",
        "  print(\"C\")\n",
        "elif 60 <= A < 70 :\n",
        "  print(\"D\")\n",
        "else :\n",
        "  print(\"F\")\n"
      ],
      "execution_count": 13,
      "outputs": [
        {
          "output_type": "stream",
          "text": [
            "75\n",
            "C\n"
          ],
          "name": "stdout"
        }
      ]
    },
    {
      "cell_type": "markdown",
      "metadata": {
        "id": "aB53M7HyNSea",
        "colab_type": "text"
      },
      "source": [
        "## 윤년 (2753번)\n",
        "\n",
        "문제 : 연도가 주어졌을 때, 윤년이면 1, 아니면 0을 출력하는 프로그램을 작성하시오.\n",
        "\n",
        "윤년은 연도가 4의 배수이면서, 100의 배수가 아닐 때 또는 400의 배수일 때이다.\n",
        "\n",
        "예를 들어, 2012년은 4의 배수이면서 100의 배수가 아니라서 윤년이다. 1900년은 100의 배수이고 400의 배수는 아니기 때문에 윤년이 아니다. 하지만, 2000년은 400의 배수이기 때문에 윤년이다.\n",
        "\n",
        "입력 : 첫째 줄에 연도가 주어진다. 연도는 1보다 크거나 같고, 4000보다 작거나 같은 자연수이다.  \n",
        "출력 : 첫째 줄에 윤년이면 1, 아니면 0을 출력한다."
      ]
    },
    {
      "cell_type": "code",
      "metadata": {
        "id": "MLVyejkgNZsc",
        "colab_type": "code",
        "colab": {}
      },
      "source": [
        "A = int(input())\n",
        "Yoonyear = A/4 and "
      ],
      "execution_count": null,
      "outputs": []
    }
  ]
}